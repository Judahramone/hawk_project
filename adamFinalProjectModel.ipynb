{
  "cells": [
    {
      "cell_type": "code",
      "execution_count": 1,
      "metadata": {
        "id": "JApqKwcjQUft"
      },
      "outputs": [
        {
          "name": "stderr",
          "output_type": "stream",
          "text": [
            "2023-12-03 17:45:20.788469: I tensorflow/core/util/port.cc:110] oneDNN custom operations are on. You may see slightly different numerical results due to floating-point round-off errors from different computation orders. To turn them off, set the environment variable `TF_ENABLE_ONEDNN_OPTS=0`.\n",
            "2023-12-03 17:45:21.161934: I tensorflow/core/platform/cpu_feature_guard.cc:182] This TensorFlow binary is optimized to use available CPU instructions in performance-critical operations.\n",
            "To enable the following instructions: AVX2 AVX_VNNI FMA, in other operations, rebuild TensorFlow with the appropriate compiler flags.\n",
            "2023-12-03 17:45:22.642644: W tensorflow/compiler/tf2tensorrt/utils/py_utils.cc:38] TF-TRT Warning: Could not find TensorRT\n"
          ]
        },
        {
          "name": "stdout",
          "output_type": "stream",
          "text": [
            "[name: \"/device:CPU:0\"\n",
            "device_type: \"CPU\"\n",
            "memory_limit: 268435456\n",
            "locality {\n",
            "}\n",
            "incarnation: 9978272332923368668\n",
            "xla_global_id: -1\n",
            ", name: \"/device:GPU:0\"\n",
            "device_type: \"GPU\"\n",
            "memory_limit: 14366539776\n",
            "locality {\n",
            "  bus_id: 1\n",
            "  links {\n",
            "  }\n",
            "}\n",
            "incarnation: 10367470536836853382\n",
            "physical_device_desc: \"device: 0, name: NVIDIA GeForce RTX 3080 Ti Laptop GPU, pci bus id: 0000:01:00.0, compute capability: 8.6\"\n",
            "xla_global_id: 416903419\n",
            "]\n",
            "Num GPUs Available:  1\n"
          ]
        },
        {
          "name": "stderr",
          "output_type": "stream",
          "text": [
            "2023-12-03 17:45:26.038364: I tensorflow/compiler/xla/stream_executor/cuda/cuda_gpu_executor.cc:981] could not open file to read NUMA node: /sys/bus/pci/devices/0000:01:00.0/numa_node\n",
            "Your kernel may have been built without NUMA support.\n",
            "2023-12-03 17:45:26.144849: I tensorflow/compiler/xla/stream_executor/cuda/cuda_gpu_executor.cc:981] could not open file to read NUMA node: /sys/bus/pci/devices/0000:01:00.0/numa_node\n",
            "Your kernel may have been built without NUMA support.\n",
            "2023-12-03 17:45:26.145432: I tensorflow/compiler/xla/stream_executor/cuda/cuda_gpu_executor.cc:981] could not open file to read NUMA node: /sys/bus/pci/devices/0000:01:00.0/numa_node\n",
            "Your kernel may have been built without NUMA support.\n",
            "2023-12-03 17:45:26.486466: I tensorflow/compiler/xla/stream_executor/cuda/cuda_gpu_executor.cc:981] could not open file to read NUMA node: /sys/bus/pci/devices/0000:01:00.0/numa_node\n",
            "Your kernel may have been built without NUMA support.\n",
            "2023-12-03 17:45:26.487020: I tensorflow/compiler/xla/stream_executor/cuda/cuda_gpu_executor.cc:981] could not open file to read NUMA node: /sys/bus/pci/devices/0000:01:00.0/numa_node\n",
            "Your kernel may have been built without NUMA support.\n",
            "2023-12-03 17:45:26.487033: I tensorflow/core/common_runtime/gpu/gpu_device.cc:1726] Could not identify NUMA node of platform GPU id 0, defaulting to 0.  Your kernel may not have been built with NUMA support.\n",
            "2023-12-03 17:45:26.487511: I tensorflow/compiler/xla/stream_executor/cuda/cuda_gpu_executor.cc:981] could not open file to read NUMA node: /sys/bus/pci/devices/0000:01:00.0/numa_node\n",
            "Your kernel may have been built without NUMA support.\n",
            "2023-12-03 17:45:26.487542: I tensorflow/core/common_runtime/gpu/gpu_device.cc:1639] Created device /device:GPU:0 with 13701 MB memory:  -> device: 0, name: NVIDIA GeForce RTX 3080 Ti Laptop GPU, pci bus id: 0000:01:00.0, compute capability: 8.6\n",
            "2023-12-03 17:45:26.489283: I tensorflow/compiler/xla/stream_executor/cuda/cuda_gpu_executor.cc:981] could not open file to read NUMA node: /sys/bus/pci/devices/0000:01:00.0/numa_node\n",
            "Your kernel may have been built without NUMA support.\n",
            "2023-12-03 17:45:26.489962: I tensorflow/compiler/xla/stream_executor/cuda/cuda_gpu_executor.cc:981] could not open file to read NUMA node: /sys/bus/pci/devices/0000:01:00.0/numa_node\n",
            "Your kernel may have been built without NUMA support.\n",
            "2023-12-03 17:45:26.490708: I tensorflow/compiler/xla/stream_executor/cuda/cuda_gpu_executor.cc:981] could not open file to read NUMA node: /sys/bus/pci/devices/0000:01:00.0/numa_node\n",
            "Your kernel may have been built without NUMA support.\n"
          ]
        }
      ],
      "source": [
        "# libraries need\n",
        "import tensorflow as tf\n",
        "import numpy as np\n",
        "from sklearn.model_selection import train_test_split\n",
        "import matplotlib.pyplot as plt\n",
        "from tensorflow.keras.models import Sequential\n",
        "from tensorflow.keras.layers import Dense, Dropout, Flatten, Conv2D, MaxPooling2D\n",
        "from tensorflow.keras.regularizers import l2 as L2\n",
        "from tensorflow.keras.callbacks import EarlyStopping\n",
        "from tensorflow.python.client import device_lib\n",
        "from tensorflow.keras.callbacks import TensorBoard\n",
        "import keras\n",
        "import time\n",
        "\n",
        "#print(\"GPU Available: \", tf.test.is_gpu_available())\n",
        "print(device_lib.list_local_devices())\n",
        "print(\"Num GPUs Available: \", len(tf.config.list_physical_devices('GPU')))"
      ]
    },
    {
      "cell_type": "code",
      "execution_count": 2,
      "metadata": {
        "colab": {
          "base_uri": "https://localhost:8080/"
        },
        "id": "-N69J6SfU544",
        "outputId": "847237b5-2f83-4137-aeca-fe7348c8d86a"
      },
      "outputs": [
        {
          "name": "stdout",
          "output_type": "stream",
          "text": [
            "[0, 1066, 2132, 3198, 4264, 5330, 6396]\n",
            "[(0, 1066), (1066, 2132), (2132, 3198), (3198, 4264), (4264, 5330), (5330, 6396)]\n"
          ]
        }
      ],
      "source": [
        "# load the memmap as numpy arrays 46bd9bde8e91ff4cf5c72bf85b71b0fdb3008ec98ef84d03\n",
        "imagesFilePath =r'/workspace/shuffled_images.memmap'\n",
        "labelFilePath = r'/workspace/shuffled_labels.memmap'\n",
        "\n",
        "numDiv=6\n",
        "\n",
        "imageShape = (6396, 321, 304, 3)\n",
        "labelShape = (6396,)\n",
        "imageMemmap = np.memmap(imagesFilePath, dtype='float32', mode='r', shape=imageShape)\n",
        "labelMemmap = np.memmap(labelFilePath, dtype='bool', mode='r', shape=labelShape)\n",
        "\n",
        "\n",
        "distVal=(len(imageMemmap)/numDiv)\n",
        "\n",
        "indexList=[]\n",
        "\n",
        "for i in range(numDiv):\n",
        "   indexList.append(int(i*distVal))\n",
        "\n",
        "indexList.append(len(imageMemmap))\n",
        "print(indexList)\n",
        "\n",
        "slice1=(indexList[0],indexList[1])\n",
        "slice2=(indexList[1],indexList[2])\n",
        "slice3=(indexList[2],indexList[3])\n",
        "slice4=(indexList[3],indexList[4])\n",
        "slice5=(indexList[4],indexList[5])\n",
        "slice6=(indexList[5],indexList[6])\n",
        "\n",
        "iTupLi=[slice1,slice2,slice3,slice4,slice5,slice6]\n",
        "\n",
        "\n",
        "print(iTupLi) \n",
        "\n",
        "\n",
        "#6396\n",
        "#imageArray = np.array(imageMemmap[0:5])\n",
        "# labelArray = np.array(labelMemmap)\n",
        "\n",
        "# print(f'image array: {imageArray.shape}')\n",
        "# print(f'image[0] array: {imageArray[0].shape}')\n",
        "# print(f'label array: {labelArray.shape}')\n",
        "\n"
      ]
    },
    {
      "cell_type": "code",
      "execution_count": 3,
      "metadata": {
        "colab": {
          "base_uri": "https://localhost:8080/"
        },
        "id": "T-1H3aBPXN0k",
        "outputId": "5e5dbcea-20c3-4749-d95a-8ecdacaced36"
      },
      "outputs": [],
      "source": [
        "# Split data in train, test\n",
        "def splitData(slc, imgMmap, labelMmap):\n",
        "    # 70% for training, 30% for testing\n",
        "    shape = slc[1] - slc[0]\n",
        "    imageArray = np.array(imgMmap[slc[0]:slc[1]])\n",
        "    labelArray = np.array(labelMmap[slc[0]:slc[1]])\n",
        "    \n",
        "    breakPoint = int(shape * 0.7)\n",
        "    labelTrain = labelArray[0:breakPoint]\n",
        "    labelTest = labelArray[breakPoint:]\n",
        "    imageTrain = imageArray[0:breakPoint]\n",
        "    imageTest = imageArray[breakPoint:]\n",
        "\n",
        "    print(f'Shape: {shape}')\n",
        "    print('Train Shapes')\n",
        "    print(imageTrain.shape)\n",
        "    print(labelTrain.shape)\n",
        "\n",
        "    print('Test Shapes')\n",
        "    print(imageTest.shape)\n",
        "    print(labelTest.shape)\n",
        "    return imageTrain, imageTest, labelTrain, labelTest\n"
      ]
    },
    {
      "cell_type": "code",
      "execution_count": 4,
      "metadata": {
        "colab": {
          "base_uri": "https://localhost:8080/"
        },
        "id": "7UyBhGtycAYq",
        "outputId": "61e2d919-353a-40b5-a653-c01f1e31d03c"
      },
      "outputs": [
        {
          "data": {
            "text/plain": [
              "Reusing TensorBoard on port 6006 (pid 583), started 3:37:45 ago. (Use '!kill 583' to kill it.)"
            ]
          },
          "metadata": {},
          "output_type": "display_data"
        },
        {
          "data": {
            "text/html": [
              "\n",
              "      <iframe id=\"tensorboard-frame-f83ab2ad51e3e2ff\" width=\"100%\" height=\"800\" frameborder=\"0\">\n",
              "      </iframe>\n",
              "      <script>\n",
              "        (function() {\n",
              "          const frame = document.getElementById(\"tensorboard-frame-f83ab2ad51e3e2ff\");\n",
              "          const url = new URL(\"http://localhost\");\n",
              "          const port = 6006;\n",
              "          if (port) {\n",
              "            url.port = port;\n",
              "          }\n",
              "          frame.src = url;\n",
              "        })();\n",
              "      </script>\n",
              "    "
            ],
            "text/plain": [
              "<IPython.core.display.HTML object>"
            ]
          },
          "metadata": {},
          "output_type": "display_data"
        }
      ],
      "source": [
        "%reload_ext tensorboard\n",
        "%tensorboard --logdir logs\n",
        "\n",
        "# create and fit model\n",
        "def trainSave(learningRate, dropout, batch, epochs, earlyStopPatience,imageTrain, labelTrain,imageTest, labelTest,regularizationWeight,savePath):\n",
        "    earlystop = EarlyStopping(monitor='val_loss', min_delta=0.0001, patience=earlyStopPatience,  verbose=1, mode='min')\n",
        "    model = binominalModel(learningRate, dropout,imageTrain[0].shape,regularizationWeight)\n",
        "    print('Starting to fit model')\n",
        "    \n",
        "    tensorboard_callback = TensorBoard(log_dir=\"logs/model_v1_lr{}_dropout{}_{}\".format(learningRate, dropout, time.strftime(\"%Y%m%d-%H%M%S\")))\n",
        "    history = model.fit(imageTrain, labelTrain, batch_size=batch,epochs=epochs, validation_data=(imageTest, labelTest),callbacks=[earlystop,tensorboard_callback])\n",
        "\n",
        "    print('Evaluating model')\n",
        "    score = model.evaluate(imageTest, labelTest)\n",
        "    print()\n",
        "    print('Test accuracy: ', score[1])\n",
        "    \n",
        "    print('Saving Model')\n",
        "    \n",
        "    savePath+=str(round(score[1]*100,2))+'.keras'\n",
        "    \n",
        "    model.save(savePath)\n",
        "    # return the loss,validation loss, accuracy for graphing purposes\n",
        "    return history.history['loss'], history.history['val_loss'], score[1]\n",
        "    \n",
        "def saveLossGraph(train_loss,val_loss, savePath):\n",
        "    fig, ax = plt.subplots()\n",
        "    ax.plot(train_loss,c = 'r')\n",
        "    ax.plot(val_loss,c = 'b')\n",
        "    ax.set_ylabel('Loss')\n",
        "    ax.legend(['train','val'],loc = 'upper right')\n",
        "    fig.savefig(savePath)\n",
        "    # plt.show()\n",
        "\n",
        "# %reload_ext tensorboard"
      ]
    },
    {
      "cell_type": "code",
      "execution_count": 5,
      "metadata": {},
      "outputs": [],
      "source": [
        "# model to train with\n",
        "def binominalModel(learnRate,dropout, input_shape,regularizationWeight):\n",
        "  model = Sequential()\n",
        "\n",
        "  model.add(Conv2D(8, (3, 3), input_shape=input_shape,activation='relu',kernel_initializer='he_normal',kernel_regularizer=L2(regularizationWeight)))\n",
        "  model.add(MaxPooling2D((2, 2)))\n",
        "  model.add(Dropout(dropout))\n",
        "  \n",
        "  # model.add(Conv2D(16, (3, 3),activation='relu',kernel_initializer='he_normal',kernel_regularizer=L2(regularizationWeight)))\n",
        "  # model.add(MaxPooling2D((2, 2)))\n",
        "  # model.add(Dropout(dropout))\n",
        "\n",
        "  # model.add(Conv2D(32, (3, 3),activation='relu',kernel_initializer='he_normal',kernel_regularizer=L2(regularizationWeight)))\n",
        "  # model.add(MaxPooling2D((2, 2)))\n",
        "  # model.add(Dropout(dropout-0.1))\n",
        "\n",
        "  # model.add(Conv2D(16, (3, 3),activation='relu',kernel_initializer='he_normal',kernel_regularizer=L2(regularizationWeight)))\n",
        "  # model.add(MaxPooling2D((2, 2)))\n",
        "  # model.add(Dropout(dropout))\n",
        "\n",
        "  model.add(Flatten())\n",
        "  \n",
        "  # model.add(Dense(64, activation='relu',kernel_initializer='he_normal',kernel_regularizer=L2(regularizationWeight)))\n",
        "  # model.add(Dropout(dropout))\n",
        "  \n",
        "  model.add(Dense(32, activation='relu',kernel_initializer='he_normal',kernel_regularizer=L2(regularizationWeight)))\n",
        "  model.add(Dropout(dropout))\n",
        "\n",
        "  model.add(Dense(16, activation='relu',kernel_initializer='he_normal',kernel_regularizer=L2(regularizationWeight)))\n",
        "  model.add(Dropout(dropout))\n",
        "  \n",
        "  model.add(Dense(1, activation='sigmoid'))\n",
        "\n",
        "  optimizer = keras.optimizers.Adam(learning_rate=learnRate)\n",
        "  model.compile(optimizer='adam', loss='binary_crossentropy', metrics=['accuracy'])\n",
        "  return model"
      ]
    },
    {
      "cell_type": "code",
      "execution_count": 6,
      "metadata": {},
      "outputs": [
        {
          "name": "stdout",
          "output_type": "stream",
          "text": [
            "Shape: 1066\n",
            "Train Shapes\n",
            "(746, 321, 304, 3)\n",
            "(746,)\n",
            "Test Shapes\n",
            "(320, 321, 304, 3)\n",
            "(320,)\n",
            "Data sliced\n",
            "Starting Training\n"
          ]
        },
        {
          "name": "stderr",
          "output_type": "stream",
          "text": [
            "2023-12-03 17:45:28.304739: I tensorflow/compiler/xla/stream_executor/cuda/cuda_gpu_executor.cc:981] could not open file to read NUMA node: /sys/bus/pci/devices/0000:01:00.0/numa_node\n",
            "Your kernel may have been built without NUMA support.\n",
            "2023-12-03 17:45:28.305666: I tensorflow/compiler/xla/stream_executor/cuda/cuda_gpu_executor.cc:981] could not open file to read NUMA node: /sys/bus/pci/devices/0000:01:00.0/numa_node\n",
            "Your kernel may have been built without NUMA support.\n",
            "2023-12-03 17:45:28.306477: I tensorflow/compiler/xla/stream_executor/cuda/cuda_gpu_executor.cc:981] could not open file to read NUMA node: /sys/bus/pci/devices/0000:01:00.0/numa_node\n",
            "Your kernel may have been built without NUMA support.\n",
            "2023-12-03 17:45:28.307384: I tensorflow/compiler/xla/stream_executor/cuda/cuda_gpu_executor.cc:981] could not open file to read NUMA node: /sys/bus/pci/devices/0000:01:00.0/numa_node\n",
            "Your kernel may have been built without NUMA support.\n",
            "2023-12-03 17:45:28.307403: I tensorflow/core/common_runtime/gpu/gpu_device.cc:1726] Could not identify NUMA node of platform GPU id 0, defaulting to 0.  Your kernel may not have been built with NUMA support.\n",
            "2023-12-03 17:45:28.307995: I tensorflow/compiler/xla/stream_executor/cuda/cuda_gpu_executor.cc:981] could not open file to read NUMA node: /sys/bus/pci/devices/0000:01:00.0/numa_node\n",
            "Your kernel may have been built without NUMA support.\n",
            "2023-12-03 17:45:28.308032: I tensorflow/core/common_runtime/gpu/gpu_device.cc:1639] Created device /job:localhost/replica:0/task:0/device:GPU:0 with 13701 MB memory:  -> device: 0, name: NVIDIA GeForce RTX 3080 Ti Laptop GPU, pci bus id: 0000:01:00.0, compute capability: 8.6\n"
          ]
        },
        {
          "name": "stdout",
          "output_type": "stream",
          "text": [
            "Starting to fit model\n",
            "Epoch 1/100\n"
          ]
        },
        {
          "name": "stderr",
          "output_type": "stream",
          "text": [
            "2023-12-03 17:45:31.303275: E tensorflow/core/grappler/optimizers/meta_optimizer.cc:954] layout failed: INVALID_ARGUMENT: Size of values 0 does not match size of permutation 4 @ fanin shape insequential/dropout/dropout/SelectV2-2-TransposeNHWCToNCHW-LayoutOptimizer\n",
            "2023-12-03 17:45:31.723626: I tensorflow/compiler/xla/stream_executor/cuda/cuda_dnn.cc:432] Loaded cuDNN version 8906\n",
            "2023-12-03 17:45:32.241558: I tensorflow/compiler/xla/stream_executor/cuda/cuda_blas.cc:606] TensorFloat-32 will be used for the matrix multiplication. This will only be logged once.\n",
            "2023-12-03 17:45:32.359371: I tensorflow/compiler/xla/service/service.cc:168] XLA service 0x7f65ecdb5f70 initialized for platform CUDA (this does not guarantee that XLA will be used). Devices:\n",
            "2023-12-03 17:45:32.359423: I tensorflow/compiler/xla/service/service.cc:176]   StreamExecutor device (0): NVIDIA GeForce RTX 3080 Ti Laptop GPU, Compute Capability 8.6\n",
            "2023-12-03 17:45:32.413326: I tensorflow/compiler/mlir/tensorflow/utils/dump_mlir_util.cc:255] disabling MLIR crash reproducer, set env var `MLIR_CRASH_REPRODUCER_DIRECTORY` to enable.\n",
            "2023-12-03 17:45:32.724158: I ./tensorflow/compiler/jit/device_compiler.h:186] Compiled cluster using XLA!  This line is logged at most once for the lifetime of the process.\n"
          ]
        },
        {
          "name": "stdout",
          "output_type": "stream",
          "text": [
            "12/12 [==============================] - 8s 352ms/step - loss: 6.1905 - accuracy: 0.5295 - val_loss: 2.0995 - val_accuracy: 0.5000\n",
            "Epoch 2/100\n",
            "12/12 [==============================] - 1s 55ms/step - loss: 2.5285 - accuracy: 0.5362 - val_loss: 0.6656 - val_accuracy: 0.5594\n",
            "Epoch 3/100\n",
            "12/12 [==============================] - 1s 49ms/step - loss: 0.9512 - accuracy: 0.5362 - val_loss: 0.6712 - val_accuracy: 0.5656\n",
            "Epoch 4/100\n",
            "12/12 [==============================] - 1s 45ms/step - loss: 0.6861 - accuracy: 0.5670 - val_loss: 0.6917 - val_accuracy: 0.5250\n",
            "Epoch 5/100\n",
            "12/12 [==============================] - 1s 44ms/step - loss: 0.6807 - accuracy: 0.5737 - val_loss: 0.6760 - val_accuracy: 0.5719\n",
            "Epoch 6/100\n",
            "12/12 [==============================] - 1s 43ms/step - loss: 0.6766 - accuracy: 0.5777 - val_loss: 0.6716 - val_accuracy: 0.5719\n",
            "Epoch 7/100\n",
            "12/12 [==============================] - 1s 44ms/step - loss: 0.6655 - accuracy: 0.5952 - val_loss: 0.6813 - val_accuracy: 0.5688\n",
            "Epoch 8/100\n",
            "12/12 [==============================] - 1s 43ms/step - loss: 0.6610 - accuracy: 0.5898 - val_loss: 0.6723 - val_accuracy: 0.5688\n",
            "Epoch 9/100\n",
            "12/12 [==============================] - 1s 43ms/step - loss: 0.6495 - accuracy: 0.6166 - val_loss: 0.6715 - val_accuracy: 0.5938\n",
            "Epoch 10/100\n",
            "12/12 [==============================] - 1s 45ms/step - loss: 0.6270 - accuracy: 0.6461 - val_loss: 0.6750 - val_accuracy: 0.6031\n",
            "Epoch 11/100\n",
            "12/12 [==============================] - 5s 425ms/step - loss: 0.5995 - accuracy: 0.7051 - val_loss: 0.6635 - val_accuracy: 0.6219\n",
            "Epoch 12/100\n",
            "12/12 [==============================] - 1s 56ms/step - loss: 0.5660 - accuracy: 0.7493 - val_loss: 0.6623 - val_accuracy: 0.6687\n",
            "Epoch 13/100\n",
            "12/12 [==============================] - 1s 46ms/step - loss: 0.5383 - accuracy: 0.7869 - val_loss: 0.6812 - val_accuracy: 0.6313\n",
            "Epoch 14/100\n",
            "12/12 [==============================] - 1s 43ms/step - loss: 0.5014 - accuracy: 0.8150 - val_loss: 0.6617 - val_accuracy: 0.6406\n",
            "Epoch 15/100\n",
            "12/12 [==============================] - 0s 42ms/step - loss: 0.4831 - accuracy: 0.8324 - val_loss: 0.6804 - val_accuracy: 0.6500\n",
            "Epoch 16/100\n",
            "12/12 [==============================] - 0s 42ms/step - loss: 0.4775 - accuracy: 0.8351 - val_loss: 0.7067 - val_accuracy: 0.6250\n",
            "Epoch 17/100\n",
            "12/12 [==============================] - 1s 43ms/step - loss: 0.4565 - accuracy: 0.8606 - val_loss: 0.7182 - val_accuracy: 0.6406\n",
            "Epoch 18/100\n",
            "12/12 [==============================] - 0s 43ms/step - loss: 0.4092 - accuracy: 0.8968 - val_loss: 0.7738 - val_accuracy: 0.6219\n",
            "Epoch 19/100\n",
            "12/12 [==============================] - 1s 43ms/step - loss: 0.3953 - accuracy: 0.8954 - val_loss: 0.6825 - val_accuracy: 0.6562\n",
            "Epoch 20/100\n",
            "12/12 [==============================] - 1s 43ms/step - loss: 0.3721 - accuracy: 0.9115 - val_loss: 0.7563 - val_accuracy: 0.6500\n",
            "Epoch 21/100\n",
            "12/12 [==============================] - 1s 43ms/step - loss: 0.3427 - accuracy: 0.9450 - val_loss: 0.8119 - val_accuracy: 0.6344\n",
            "Epoch 22/100\n",
            "12/12 [==============================] - 1s 43ms/step - loss: 0.3209 - accuracy: 0.9477 - val_loss: 0.7446 - val_accuracy: 0.6500\n",
            "Epoch 23/100\n",
            "12/12 [==============================] - 1s 43ms/step - loss: 0.3147 - accuracy: 0.9410 - val_loss: 0.6922 - val_accuracy: 0.6594\n",
            "Epoch 24/100\n",
            "12/12 [==============================] - 1s 44ms/step - loss: 0.3111 - accuracy: 0.9316 - val_loss: 0.6821 - val_accuracy: 0.6594\n",
            "Epoch 25/100\n",
            "12/12 [==============================] - 1s 45ms/step - loss: 0.2927 - accuracy: 0.9410 - val_loss: 0.7313 - val_accuracy: 0.6812\n",
            "Epoch 26/100\n",
            "12/12 [==============================] - 1s 44ms/step - loss: 0.2695 - accuracy: 0.9517 - val_loss: 0.7130 - val_accuracy: 0.6500\n",
            "Epoch 27/100\n",
            "12/12 [==============================] - 1s 43ms/step - loss: 0.2562 - accuracy: 0.9584 - val_loss: 0.7502 - val_accuracy: 0.6625\n",
            "Epoch 28/100\n",
            "12/12 [==============================] - 1s 43ms/step - loss: 0.2414 - accuracy: 0.9625 - val_loss: 0.7963 - val_accuracy: 0.6656\n",
            "Epoch 29/100\n",
            "12/12 [==============================] - 1s 49ms/step - loss: 0.2354 - accuracy: 0.9598 - val_loss: 0.8679 - val_accuracy: 0.6469\n",
            "Epoch 29: early stopping\n",
            "Evaluating model\n",
            "10/10 [==============================] - 1s 12ms/step - loss: 0.8679 - accuracy: 0.6469\n",
            "\n",
            "Test accuracy:  0.6468750238418579\n",
            "Saving Model\n"
          ]
        },
        {
          "data": {
            "image/png": "[encoded data removed]",
            "text/plain": [
              "<Figure size 640x480 with 1 Axes>"
            ]
          },
          "metadata": {},
          "output_type": "display_data"
        },
        {
          "ename": "",
          "evalue": "",
          "output_type": "error",
          "traceback": [
            "\u001b[1;31mThe Kernel crashed while executing code in the the current cell or a previous cell. Please review the code in the cell(s) to identify a possible cause of the failure. Click <a href='https://aka.ms/vscodeJupyterKernelCrash'>here</a> for more info. View Jupyter <a href='command:jupyter.viewOutput'>log</a> for further details."
          ]
        }
      ],
      "source": [
        "# Main\n",
        "# parameters\n",
        "batch = 64\n",
        "epochs = 100\n",
        "learningRate = 0.000027\n",
        "dropout = 0.05\n",
        "regularizationWeight = 0.0\n",
        "earlyStopPatience = 15\n",
        "\n",
        "modelNumber = 1\n",
        "currentSlice = slice1\n",
        "\n",
        "\n",
        "modelSavePath=rf'modelSaves/model1/model{modelNumber}_'\n",
        "imageTrain, imageTest, labelTrain, labelTest = splitData(currentSlice, imageMemmap, labelMemmap)\n",
        "print('Data sliced')\n",
        "print(\"Starting Training\")\n",
        "train_error, val_error,accuracy = trainSave(regularizationWeight=regularizationWeight,learningRate=learningRate, dropout=dropout, batch=batch, earlyStopPatience=earlyStopPatience, epochs=epochs, imageTrain=imageTrain, imageTest=imageTest, labelTrain=labelTrain, labelTest=labelTest, savePath=modelSavePath)\n",
        "graphStatsSavePath = rf'modelSaves/model{modelNumber}/{round(accuracy*100,2)}_trainLoss.png'\n",
        "saveLossGraph(train_error, val_error, graphStatsSavePath)\n",
        "    "
      ]
    }
  ],
  "metadata": {
    "accelerator": "GPU",
    "colab": {
      "gpuType": "T4",
      "provenance": []
    },
    "kernelspec": {
      "display_name": "Python 3 (ipykernel)",
      "language": "python",
      "name": "python3"
    },
    "language_info": {
      "codemirror_mode": {
        "name": "ipython",
        "version": 3
      },
      "file_extension": ".py",
      "mimetype": "text/x-python",
      "name": "python",
      "nbconvert_exporter": "python",
      "pygments_lexer": "ipython3",
      "version": "3.8.10"
    }
  },
  "nbformat": 4,
  "nbformat_minor": 0
}
