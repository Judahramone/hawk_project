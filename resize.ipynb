{
 "cells": [
  {
   "cell_type": "code",
   "execution_count": 1,
   "metadata": {},
   "outputs": [
    {
     "name": "stdout",
     "output_type": "stream",
     "text": [
      "Smallest size found: 304x321\n"
     ]
    }
   ],
   "source": [
    "# #Resize based off of smallest\n",
    "# from PIL import Image\n",
    "# import os\n",
    "\n",
    "# def find_smallest_image_size(directories):\n",
    "#     min_width, min_height = float('inf'), float('inf')\n",
    "#     for directory in directories:\n",
    "#         for filename in os.listdir(directory):\n",
    "#             if filename.endswith('.jpg'):  \n",
    "#                 filepath = os.path.join(directory, filename)\n",
    "#                 with Image.open(filepath) as img:\n",
    "#                     width, height = img.size\n",
    "#                     min_width, min_height = min(min_width, width), min(min_height, height)\n",
    "#     return min_width, min_height\n",
    "\n",
    "# def resize_images_to_smallest(src_directory, dest_directory, min_width, min_height):\n",
    "#     os.makedirs(dest_directory, exist_ok=True)  # Ensure destination directory exists\n",
    "#     for filename in os.listdir(src_directory):\n",
    "#         if filename.endswith('.jpg'):  \n",
    "#             filepath = os.path.join(src_directory, filename)\n",
    "#             with Image.open(filepath) as img:\n",
    "#                 resized_img = img.resize((min_width, min_height), Image.Resampling.LANCZOS)\n",
    "#                 resized_img.save(os.path.join(dest_directory, filename))\n",
    "\n",
    "# dir1_src = '/home/cygnus/workspace/dl/project/hawks'\n",
    "# dir2_src = '/home/cygnus/workspace/dl/project/non_hawks'  \n",
    "# dir1_dest = '/home/cygnus/workspace/dl/project/hawks_resize'  \n",
    "# dir2_dest = '/home/cygnus/workspace/dl/project/non_hawks_resize'  \n",
    "\n",
    "# # Find the smallest size across both directories\n",
    "# min_width, min_height = find_smallest_image_size([dir1_src, dir2_src])\n",
    "# print(f\"Smallest size found: {min_width}x{min_height}\")\n",
    "\n",
    "# # Resize images in both directories\n",
    "# resize_images_to_smallest(dir1_src, dir1_dest, min_width, min_height)\n",
    "# resize_images_to_smallest(dir2_src, dir2_dest, min_width, min_height)"
   ]
  },
  {
   "cell_type": "code",
   "execution_count": 2,
   "metadata": {},
   "outputs": [
    {
     "name": "stdout",
     "output_type": "stream",
     "text": [
      "Shuffled images shape: (6396, 321, 304, 3)\n",
      "Shuffled labels shape: (6396,)\n"
     ]
    }
   ],
   "source": [
    "import numpy as np\n",
    "import cv2\n",
    "import pandas as pd\n",
    "import os\n",
    "\n",
    "# Define the path to the directory containing your image files\n",
    "image_dir = '/workspace/project/master_img/'\n",
    "\n",
    "# Load CSV file containing image file names and labels\n",
    "csv_file = '/workspace/project/master.csv'\n",
    "df = pd.read_csv(csv_file, header=None, names=['image_file_name', 'label'], skiprows=1)\n",
    "\n",
    "# Construct the full file paths for the images\n",
    "df['full_image_path'] = df['image_file_name'].apply(lambda x: os.path.join(image_dir, x))\n",
    "\n",
    "# Extract full image file paths and labels from the DataFrame\n",
    "image_file_paths = df['full_image_path'].tolist()\n",
    "labels = df['label'].tolist()\n",
    "\n",
    "# Determine the shape of your images\n",
    "image_shape = (321, 304, 3) # Replace with actual shape\n",
    "\n",
    "# Initialize parameters for memory-mapped array\n",
    "im_memmap_path = 'images.memmap'\n",
    "labels_memmap_path = 'labels.memmap'\n",
    "\n",
    "# Create memory-mapped array files\n",
    "images_memmap = np.memmap(im_memmap_path, dtype=np.float32, mode='w+', shape=(len(image_file_paths), *image_shape))\n",
    "labels_memmap = np.memmap(labels_memmap_path, dtype=bool, mode='w+', shape=(len(labels)))\n",
    "\n",
    "# Load images and labels into memory-mapped arrays\n",
    "for idx, (image_file_path, label) in enumerate(zip(image_file_paths, labels)):\n",
    "    image = cv2.imread(image_file_path)\n",
    "    if image is not None:\n",
    "        image = image.astype(np.float32) / 255.0\n",
    "        images_memmap[idx] = image\n",
    "        labels_memmap[idx] = label\n",
    "    else:\n",
    "        print(f\"Failed to load image at {image_file_path}\")\n",
    "\n",
    "# Shuffle indices\n",
    "random_seed = 47\n",
    "np.random.seed(random_seed)\n",
    "indices = np.arange(len(images_memmap))\n",
    "np.random.shuffle(indices)\n",
    "\n",
    "# Create shuffled memory-mapped arrays\n",
    "shuffled_im_memmap_path = 'shuffled_images.memmap'\n",
    "shuffled_labels_memmap_path = 'shuffled_labels.memmap'\n",
    "\n",
    "shuffled_images = np.memmap(shuffled_im_memmap_path, dtype=np.float32, mode='w+', shape=images_memmap.shape)\n",
    "shuffled_labels = np.memmap(shuffled_labels_memmap_path, dtype=bool, mode='w+', shape=labels_memmap.shape)\n",
    "\n",
    "# Copy shuffled data to new memory-mapped arrays\n",
    "for i, idx in enumerate(indices):\n",
    "    shuffled_images[i] = images_memmap[idx]\n",
    "    shuffled_labels[i] = labels_memmap[idx]\n",
    "\n",
    "print(\"Shuffled images shape:\", shuffled_images.shape)\n",
    "print(\"Shuffled labels shape:\", shuffled_labels.shape)\n",
    "\n"
   ]
  },
  {
   "cell_type": "code",
   "execution_count": 1,
   "metadata": {},
   "outputs": [
    {
     "name": "stdout",
     "output_type": "stream",
     "text": [
      "6396\n",
      "6396\n"
     ]
    }
   ],
   "source": [
    "# #Putting the Images into  numpyarrays\n",
    "# import numpy as np\n",
    "# import cv2\n",
    "# import pandas as pd\n",
    "# import os\n",
    "# import PIL\n",
    "\n",
    "# # Define the path to the directory containing your image files\n",
    "# #image_dir = '/home/cygnus/workspace/dl/project/master_img/'\n",
    "# image_dir = '/workspace/project/master_img/'\n",
    "\n",
    "# # Load CSV file containing image file names and labels\n",
    "# #csv_file = '/home/cygnus/workspace/dl/project/master.csv'  # Update with the path to your CSV file\n",
    "# csv_file = '/workspace/project/master.csv'  # Update with the path to your CSV file\n",
    "# df = pd.read_csv(csv_file, header=None, names=['image_file_name', 'label'], skiprows=1)\n",
    "\n",
    "# # Construct the full file paths for the images\n",
    "# df['full_image_path'] = df['image_file_name'].apply(lambda x: os.path.join(image_dir, x))\n",
    "\n",
    "# # Extract full image file paths and labels from the DataFrame\n",
    "# image_file_paths = df['full_image_path'].tolist()\n",
    "# labels = df['label'].tolist()\n",
    "\n",
    "# # Initialize empty lists to store images and labels\n",
    "# images = []\n",
    "# label_list = []\n",
    "\n",
    "# for image_file_path, label in zip(image_file_paths, labels):\n",
    "#     # Load the image using OpenCV\n",
    "#     image = cv2.imread(image_file_path)\n",
    "\n",
    "#     # Check if the image was loaded successfully\n",
    "#     if image is not None:\n",
    "#         # Preprocess the image\n",
    "#         image = image.astype(np.float32) / 255.0  # Normalize pixel values to [0, 1] if necessary\n",
    "\n",
    "#         # Append the image to the list\n",
    "#         images.append(image)\n",
    "\n",
    "#         # Append the label to the list (perform one-hot encoding or label encoding if needed)\n",
    "#         label_list.append(label)\n",
    "#     else:\n",
    "#         print(f\"Failed to load image at {image_file_path}\")\n",
    "\n",
    "# # Convert the `images` and `label_list` lists to NumPy arrays\n",
    "# images_array = np.array(images)\n",
    "# labels_array = np.array(label_list)\n",
    "\n",
    "# print(len(images_array))\n",
    "# print(len(labels_array))"
   ]
  },
  {
   "cell_type": "code",
   "execution_count": 2,
   "metadata": {},
   "outputs": [
    {
     "name": "stdout",
     "output_type": "stream",
     "text": [
      "'n' values before shuffling =  [   0    1    2 ... 6393 6394 6395]\n",
      "(6396, 321, 304, 3) (6396,)\n",
      "\n",
      "'n' values after shuffling =  [4933 2685 5174 ... 3336 1926 5255]\n",
      "(6396, 321, 304, 3) (6396,)\n"
     ]
    }
   ],
   "source": [
    "#Shuffle 65b35d1c15f3c6efc1acba1fa1e4c5313541a413edfbcb4a\n",
    "import random\n",
    "#1-step in data shuffling\n",
    "random_seed=47\n",
    "#get equally spaced numbers in a given range\n",
    "n = np.arange(images_array.shape[0])\n",
    "print(\"'n' values before shuffling = \",n)\n",
    "print(images_array.shape, labels_array.shape)\n",
    "\n",
    "#shuffle all the equally spaced values in list 'n'\n",
    "np.random.seed(random_seed)\n",
    "np.random.shuffle(n)\n",
    "print(\"\\n'n' values after shuffling = \",n)\n",
    "print(images_array.shape, labels_array.shape)"
   ]
  },
  {
   "cell_type": "code",
   "execution_count": null,
   "metadata": {},
   "outputs": [],
   "source": [
    "# #2-step in data shuffling\n",
    "# images_array = images_array[n]\n",
    "# labels_array = labels_array[n]\n",
    "\n",
    "# print(\"Images shape after shuffling = \",images_array.shape,\"\\nLabels shape after shuffling = \",labels_array.shape)"
   ]
  },
  {
   "cell_type": "code",
   "execution_count": null,
   "metadata": {},
   "outputs": [],
   "source": []
  },
  {
   "cell_type": "code",
   "execution_count": null,
   "metadata": {},
   "outputs": [],
   "source": []
  }
 ],
 "metadata": {
  "kernelspec": {
   "display_name": "Python 3 (ipykernel)",
   "language": "python",
   "name": "python3"
  },
  "language_info": {
   "codemirror_mode": {
    "name": "ipython",
    "version": 3
   },
   "file_extension": ".py",
   "mimetype": "text/x-python",
   "name": "python",
   "nbconvert_exporter": "python",
   "pygments_lexer": "ipython3",
   "version": "3.10.12"
  }
 },
 "nbformat": 4,
 "nbformat_minor": 4
}
